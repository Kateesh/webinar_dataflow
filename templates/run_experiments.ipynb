{
 "cells": [
  {
   "cell_type": "code",
   "execution_count": null,
   "metadata": {},
   "outputs": [],
   "source": [
    "import sys"
   ]
  },
  {
   "cell_type": "code",
   "execution_count": null,
   "metadata": {},
   "outputs": [],
   "source": [
    "print (sys.version)"
   ]
  },
  {
   "cell_type": "code",
   "execution_count": null,
   "metadata": {},
   "outputs": [],
   "source": [
    "!sudo chmod 777 -R /opt/Anaconda3-5.2.0-Linux-x86_64/lib/python3.6/\n",
    "!sudo chmod 777 -R /opt/Anaconda3-5.2.0-Linux-x86_64/bin/"
   ]
  },
  {
   "cell_type": "code",
   "execution_count": null,
   "metadata": {},
   "outputs": [],
   "source": [
    "!pip install -U pip"
   ]
  },
  {
   "cell_type": "code",
   "execution_count": null,
   "metadata": {},
   "outputs": [],
   "source": [
    "!pip install pykafka"
   ]
  },
  {
   "cell_type": "code",
   "execution_count": null,
   "metadata": {},
   "outputs": [],
   "source": [
    "# example my-cluster-kafka-external-bootstrap = \"185.86.147.123:9094\"  \n",
    "# replace \"185.86.147.123:9094\" with your value\n",
    "#you can find it with: kubectl get service my-cluster-kafka-external-bootstrap -n kafka\n",
    "\n",
    "my_cluster_kafka_external_bootstrap_ip = \"185.86.144.156:9094\"\n",
    "inventory_topic = b'dbserver1.inventory.customers'"
   ]
  },
  {
   "cell_type": "code",
   "execution_count": null,
   "metadata": {},
   "outputs": [],
   "source": [
    "from pykafka import KafkaClient\n",
    "client = KafkaClient(hosts=my_cluster_kafka_external_bootstrap_ip)"
   ]
  },
  {
   "cell_type": "code",
   "execution_count": null,
   "metadata": {},
   "outputs": [],
   "source": [
    "client.topics"
   ]
  },
  {
   "cell_type": "code",
   "execution_count": null,
   "metadata": {},
   "outputs": [],
   "source": [
    "topic = client.topics[inventory_topic]"
   ]
  },
  {
   "cell_type": "code",
   "execution_count": null,
   "metadata": {},
   "outputs": [],
   "source": [
    "##stop this cell manually after testing\n",
    "consumer = topic.get_simple_consumer(reset_offset_on_start=True)\n",
    "for message in consumer:\n",
    "    if message is not None:\n",
    "        print (message.offset, message.value)"
   ]
  },
  {
   "cell_type": "code",
   "execution_count": null,
   "metadata": {},
   "outputs": [],
   "source": [
    "# you can test sending messages\n",
    "with topic.get_sync_producer() as producer:\n",
    "    for i in range(4):\n",
    "        producer.produce(b'test message')"
   ]
  },
  {
   "cell_type": "code",
   "execution_count": null,
   "metadata": {},
   "outputs": [],
   "source": [
    "!pip install mysql-connector-python"
   ]
  },
  {
   "cell_type": "code",
   "execution_count": null,
   "metadata": {},
   "outputs": [],
   "source": [
    "#replace with ip of your mysql instance\n",
    "#you can find it with: kubectl get service mysql-externallb -n kafka\n",
    "mysql_external_ip = '185.86.144.162'"
   ]
  },
  {
   "cell_type": "code",
   "execution_count": null,
   "metadata": {},
   "outputs": [],
   "source": [
    "host_mysql = mysql_external_ip\n",
    "database_mysql = 'inventory'\n",
    "user_mysql = 'root'\n",
    "password_mysql = 'debezium'"
   ]
  },
  {
   "cell_type": "code",
   "execution_count": null,
   "metadata": {},
   "outputs": [],
   "source": [
    "#testing connection\n",
    "import mysql.connector\n",
    "\n",
    "connection = mysql.connector.connect(host=host_mysql,\n",
    "                                         database=database_mysql,\n",
    "                                         user=user_mysql,\n",
    "                                         password=password_mysql)\n",
    "\n",
    "mySql_select = \"\"\"show databases;\"\"\"\n",
    "\n",
    "cursor = connection.cursor()\n",
    "db_Info = connection.get_server_info()\n",
    "print(\"Connected to MySQL Server version \", db_Info)\n",
    "cursor.execute(\"select database();\")\n",
    "record = cursor.fetchone()\n",
    "print(\"You're connected to database: \", record)\n",
    "\n",
    "connection.close()\n"
   ]
  },
  {
   "cell_type": "code",
   "execution_count": null,
   "metadata": {},
   "outputs": [],
   "source": [
    "import mysql.connector\n",
    "\n",
    "connection = mysql.connector.connect(host=host_mysql,\n",
    "                                         database=database_mysql,\n",
    "                                         user=user_mysql,\n",
    "                                         password=password_mysql)\n",
    "\n",
    "cursor = connection.cursor()\n",
    "cursor.execute(\"show tables;\")\n",
    "record = cursor.fetchall()\n",
    "print(record)\n",
    "\n",
    "connection.close()"
   ]
  },
  {
   "cell_type": "code",
   "execution_count": null,
   "metadata": {},
   "outputs": [],
   "source": [
    "#generate random records to MySQL\n",
    "\n",
    "import random\n",
    "import time\n",
    "import mysql.connector\n",
    "\n",
    "connection = mysql.connector.connect(host=host_mysql,\n",
    "                                         database=database_mysql,\n",
    "                                         user=user_mysql,\n",
    "                                         password=password_mysql)\n",
    "\n",
    "sleep_time = 1\n",
    "number_of_records = 5\n",
    "\n",
    "regions = ['Moscow', 'Piter', 'Kazan', 'Saratov', 'Voronezh']\n",
    "products = ['Bread', 'Milk', 'Juice', 'Umbrella', 'Echpochmak']\n",
    "cursor = connection.cursor()\n",
    "db_Info = connection.get_server_info()\n",
    "print(\"Connected to MySQL Server version \", db_Info)\n",
    "\n",
    "\n",
    "def random_insert():\n",
    "\n",
    "    query = f\"\"\"INSERT INTO inventory.sales(client_id, region, product_name, quantity, price)\n",
    "        VALUES({random.randint(1, 50)},\n",
    "        '{random.choice(regions)}', \n",
    "        '{random.choice(products)}', \n",
    "        {random.randint(1, 10)}, \n",
    "        {random.randint(1, 1000)});\"\"\"\n",
    "    cursor.execute(query)\n",
    "    connection.commit()\n",
    "    time.sleep(sleep_time)\n",
    "    print (query)\n",
    "\n",
    "for i in range(number_of_records):\n",
    "    random_insert()\n",
    "    "
   ]
  },
  {
   "cell_type": "code",
   "execution_count": null,
   "metadata": {},
   "outputs": [],
   "source": []
  },
  {
   "cell_type": "code",
   "execution_count": null,
   "metadata": {},
   "outputs": [],
   "source": [
    "#postgres part"
   ]
  },
  {
   "cell_type": "code",
   "execution_count": null,
   "metadata": {},
   "outputs": [],
   "source": [
    "!pip install psycopg2-binary"
   ]
  },
  {
   "cell_type": "code",
   "execution_count": null,
   "metadata": {},
   "outputs": [],
   "source": [
    "#replace host_pg value with ip of your base\n",
    "#create user for NiFi in postgre from MCS UI https://mcs.mail.ru/app/services/databases/list/\n",
    "host_pg = '185.86.146.66'\n",
    "database_pg = 'PostgreSQL-4147'\n",
    "user_pg = 'nifi'\n",
    "password_pg = 'dVY4ddqXdnQ8EHj1'"
   ]
  },
  {
   "cell_type": "code",
   "execution_count": null,
   "metadata": {},
   "outputs": [],
   "source": [
    "#test connection\n",
    "import psycopg2\n",
    "\n",
    "conn = psycopg2.connect(dbname=database_pg, user=user_pg, \n",
    "                        password=password_pg, host=host_pg)\n",
    "cursor = conn.cursor()\n",
    "\n",
    "print('PostgreSQL database version:')\n",
    "cursor.execute('SELECT version()')\n",
    "# display the PostgreSQL database server version\n",
    "db_version = cursor.fetchone()\n",
    "print(db_version)\n",
    "# close the communication with the PostgreSQL\n",
    "cursor.close()\n",
    "conn.close()\n"
   ]
  },
  {
   "cell_type": "code",
   "execution_count": null,
   "metadata": {},
   "outputs": [],
   "source": [
    "#create target table in Postgre\n",
    "conn = psycopg2.connect(dbname=database_pg, user=user_pg, \n",
    "                        password=password_pg, host=host_pg)\n",
    "cursor = conn.cursor()\n",
    "cursor.execute(\"\"\"CREATE TABLE sales (client_id INT,\n",
    "region VARCHAR (100),\n",
    "product_name VARCHAR(100),\n",
    "quantity INT,\n",
    "price  INT,\n",
    "created_at TIMESTAMP\n",
    ");\n",
    "\"\"\")\n",
    "cursor.close()\n",
    "conn.commit()\n",
    "conn.close()\n"
   ]
  },
  {
   "cell_type": "code",
   "execution_count": null,
   "metadata": {},
   "outputs": [],
   "source": [
    "#check if table exist\n",
    "conn = psycopg2.connect(dbname=database_pg, user=user_pg, \n",
    "                        password=password_pg, host=host_pg)\n",
    "cursor = conn.cursor()\n",
    "cursor.execute(\"\"\"SELECT\n",
    "    table_schema || '.' || table_name\n",
    "FROM\n",
    "    information_schema.tables\n",
    "WHERE\n",
    "    table_type = 'BASE TABLE'\n",
    "AND\n",
    "    table_schema NOT IN ('pg_catalog', 'information_schema');\"\"\")\n",
    "\n",
    "for row in cursor:\n",
    "    print(row)\n",
    "\n",
    "cursor.close()\n",
    "conn.close()"
   ]
  },
  {
   "cell_type": "code",
   "execution_count": null,
   "metadata": {},
   "outputs": [],
   "source": [
    "#test insert\n",
    "conn = psycopg2.connect(dbname=database_pg, user=user_pg, \n",
    "                        password=password_pg, host=host_pg)\n",
    "cursor = conn.cursor()\n",
    "cursor.execute(\"\"\"INSERT INTO public.sales(client_id, region, product_name, quantity, price, created_at)\n",
    "VALUES\n",
    "(1,'Moscow', 'Milk', 3, 85, now()),\n",
    "(2,'Piter', 'Umbrella', 3, 385, now()),\n",
    "(3,'Kazan', 'Ichpochmak', 3, 123, now()),\n",
    "(4,'Saratov', 'Bread', 3, 8, now()),\n",
    "(5,'Voronezh', 'Juice', 3, 42, now())\n",
    ";\"\"\")\n",
    "cursor.close()\n",
    "conn.commit()\n",
    "conn.close()"
   ]
  },
  {
   "cell_type": "code",
   "execution_count": null,
   "metadata": {},
   "outputs": [],
   "source": [
    "#test result of insert\n",
    "conn = psycopg2.connect(dbname=database_pg, user=user_pg, \n",
    "                        password=password_pg, host=host_pg)\n",
    "cursor = conn.cursor()\n",
    "cursor.execute(\"\"\"SELECT * FROM public.sales;\"\"\")\n",
    "\n",
    "for row in cursor:\n",
    "    print(row)\n",
    "\n",
    "cursor.close()\n",
    "conn.close()"
   ]
  },
  {
   "cell_type": "code",
   "execution_count": null,
   "metadata": {},
   "outputs": [],
   "source": [
    "#truncate if you wish\n",
    "conn = psycopg2.connect(dbname=database_pg, user=user_pg, \n",
    "                        password=password_pg, host=host_pg)\n",
    "cursor = conn.cursor()\n",
    "cursor.execute(\"\"\"TRUNCATE public.sales;\"\"\")\n",
    "cursor.close()\n",
    "conn.commit()\n",
    "conn.close()"
   ]
  },
  {
   "cell_type": "code",
   "execution_count": null,
   "metadata": {},
   "outputs": [],
   "source": [
    "#Next step. We will generate insert records to MySQL\n",
    "#Than read records from Kafka with Nifi and replicate to Postgre with Nifi\n"
   ]
  },
  {
   "cell_type": "code",
   "execution_count": null,
   "metadata": {},
   "outputs": [],
   "source": [
    "#RUN THIS after you created and configured Nifi\n",
    "#generate random records to MySQL\n",
    "\n",
    "import random\n",
    "import time\n",
    "import mysql.connector\n",
    "\n",
    "connection = mysql.connector.connect(host=host_mysql,\n",
    "                                         database=database_mysql,\n",
    "                                         user=user_mysql,\n",
    "                                         password=password_mysql)\n",
    "\n",
    "sleep_time = 1\n",
    "number_of_records = 5000\n",
    "\n",
    "regions = ['Moscow', 'Piter', 'Kazan', 'Saratov', 'Voronezh']\n",
    "products = ['Bread', 'Milk', 'Juice', 'Umbrella', 'Echpochmak']\n",
    "cursor = connection.cursor()\n",
    "db_Info = connection.get_server_info()\n",
    "print(\"Connected to MySQL Server version \", db_Info)\n",
    "\n",
    "\n",
    "def random_insert():\n",
    "\n",
    "    query = f\"\"\"INSERT INTO inventory.sales(client_id, region, product_name, quantity, price)\n",
    "        VALUES({random.randint(1, 50)},\n",
    "        '{random.choice(regions)}', \n",
    "        '{random.choice(products)}', \n",
    "        {random.randint(1, 10)}, \n",
    "        {random.randint(1, 1000)});\"\"\"\n",
    "    cursor.execute(query)\n",
    "    connection.commit()\n",
    "    time.sleep(sleep_time)\n",
    "    print (query)\n",
    "\n",
    "for i in range(number_of_records):\n",
    "    random_insert()\n",
    "    "
   ]
  },
  {
   "cell_type": "code",
   "execution_count": null,
   "metadata": {},
   "outputs": [],
   "source": []
  }
 ],
 "metadata": {
  "kernelspec": {
   "display_name": "Python 3",
   "language": "python",
   "name": "python3"
  },
  "language_info": {
   "codemirror_mode": {
    "name": "ipython",
    "version": 3
   },
   "file_extension": ".py",
   "mimetype": "text/x-python",
   "name": "python",
   "nbconvert_exporter": "python",
   "pygments_lexer": "ipython3",
   "version": "3.6.6"
  }
 },
 "nbformat": 4,
 "nbformat_minor": 2
}
